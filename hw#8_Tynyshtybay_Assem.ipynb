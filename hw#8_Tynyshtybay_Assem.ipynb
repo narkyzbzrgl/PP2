{
 "cells": [
  {
   "cell_type": "markdown",
   "metadata": {},
   "source": [
    "17.1 A study was designed to compare Red Bull energy drink commercials. Each participant was shown the commercials, A and B, in random order and asked to select the better one. There were 140 women and 130 men who participated in the study. Commercial A was selected by 65 women and by 67 men. Find the odds of selecting Commercial A for the men. Do the same for the women."
   ]
  },
  {
   "cell_type": "code",
   "execution_count": 1,
   "metadata": {},
   "outputs": [],
   "source": [
    "import pandas as pd\n",
    "import numpy as np\n",
    "from math import exp, log, sqrt\n",
    "import matplotlib.pyplot as plt\n",
    "import statsmodels.api as sm\n",
    "import seaborn as sns\n",
    "from pandas import DataFrame\n",
    "%matplotlib inline"
   ]
  },
  {
   "cell_type": "markdown",
   "metadata": {},
   "source": [
    "Given:\n",
    "\n",
    "m - #men\n",
    "\n",
    "w - #women\n",
    "\n",
    "mA - #men who choose Com. A\n",
    "\n",
    "wA - #women who choose Com. A\n"
   ]
  },
  {
   "cell_type": "code",
   "execution_count": 9,
   "metadata": {},
   "outputs": [],
   "source": [
    "m = 130\n",
    "w = 140\n",
    "mA = 67\n",
    "wA = 65"
   ]
  },
  {
   "cell_type": "code",
   "execution_count": 11,
   "metadata": {},
   "outputs": [
    {
     "name": "stdout",
     "output_type": "stream",
     "text": [
      "The proportoin of the men who chose Commercial A: 0.5153846153846153\n",
      "The estimated odds of the men who chose Commercial A: 1.0634920634920633\n",
      "The proportoin of the women who chose Commercial A: 0.4642857142857143\n",
      "The estimated odds of the women who chose Commercial A: 0.8666666666666667\n"
     ]
    }
   ],
   "source": [
    "prop_m = mA/m \n",
    "print('The proportoin of the men who chose Commercial A:', prop_m)\n",
    "\n",
    "odds_m = (prop_m/(1-prop_m))\n",
    "print('The estimated odds of the men who chose Commercial A:', odds_m)\n",
    "\n",
    "prop_w = wA/w\n",
    "print('The proportoin of the women who chose Commercial A:', prop_w)\n",
    "\n",
    "odds_w = (prop_w/(1-prop_w))\n",
    "print('The estimated odds of the women who chose Commercial A:', odds_w)\n"
   ]
  },
  {
   "cell_type": "markdown",
   "metadata": {},
   "source": [
    "17.3 Log odds choosing Commercial A. Refer to Exercise 17.1. Find the log odds for the men and the log odds for the women choosing Commercial A."
   ]
  },
  {
   "cell_type": "markdown",
   "metadata": {},
   "source": [
    "We use statistical model for simple logistic regression:\n",
    " log(odds), to find  the log odds for the men and the log odds for the women choosing Commercial A"
   ]
  },
  {
   "cell_type": "code",
   "execution_count": 12,
   "metadata": {},
   "outputs": [
    {
     "data": {
      "text/plain": [
       "0.06155789299943316"
      ]
     },
     "execution_count": 12,
     "metadata": {},
     "output_type": "execute_result"
    }
   ],
   "source": [
    "# for men\n",
    "log_odds_m = np.log(odds_m)\n",
    "log_odds_m"
   ]
  },
  {
   "cell_type": "code",
   "execution_count": 14,
   "metadata": {},
   "outputs": [
    {
     "data": {
      "text/plain": [
       "-0.1431008436406733"
      ]
     },
     "execution_count": 14,
     "metadata": {},
     "output_type": "execute_result"
    }
   ],
   "source": [
    "# for women\n",
    "log_odds_w = np.log(odds_w)\n",
    "log_odds_w"
   ]
  },
  {
   "cell_type": "markdown",
   "metadata": {},
   "source": [
    "17.5 Fitted model for energy drink commercials. Refer to Exercises 17.1 and 17.3. Find the estimates b0 and b1 and give the fitted logistic model. What is the\n",
    "estimated odds ratio for a male to choose Commercial A (x=1) versus a female to choose Commercial A (x = 0)?"
   ]
  },
  {
   "cell_type": "markdown",
   "metadata": {},
   "source": [
    "To find the estimates b0 and b1 and give the fitted logistic model we use these formulas:\n",
    "\n",
    "log(p0/(1-p0))=B0\n",
    "\n",
    "log(p1/(1-p1))=B0+B1"
   ]
  },
  {
   "cell_type": "code",
   "execution_count": 15,
   "metadata": {},
   "outputs": [
    {
     "data": {
      "text/plain": [
       "-0.1431008436406733"
      ]
     },
     "execution_count": 15,
     "metadata": {},
     "output_type": "execute_result"
    }
   ],
   "source": [
    "b0 = np.log(odds_w)\n",
    "b0"
   ]
  },
  {
   "cell_type": "code",
   "execution_count": 17,
   "metadata": {},
   "outputs": [
    {
     "data": {
      "text/plain": [
       "0.20465873664010645"
      ]
     },
     "execution_count": 17,
     "metadata": {},
     "output_type": "execute_result"
    }
   ],
   "source": [
    "b1 = log_odds_m - np.log(odds_w)\n",
    "b1"
   ]
  },
  {
   "cell_type": "code",
   "execution_count": 18,
   "metadata": {},
   "outputs": [
    {
     "name": "stdout",
     "output_type": "stream",
     "text": [
      "\n",
      "Fitted logistic model: log(odds)= -0.1431008436406733 + 0.20465873664010645 *x\n",
      "\n",
      "The estimated odds ratio:  1.2271062271062267\n"
     ]
    }
   ],
   "source": [
    "print(\"\\nFitted logistic model: log(odds)=\" , b0 , \"+\",  b1, \"*x\")\n",
    "print(\"\\nThe estimated odds ratio: \", exp(b1))"
   ]
  },
  {
   "cell_type": "markdown",
   "metadata": {},
   "source": [
    "17.7 . If we apply the exponential function to the fitted model in Example 17.6, we get odds = e^-1.41 + 781x = e^-1.41 * e^0.781x Show that for any value of the quantitative explanatory variable x, the odds ratio for increasing x by 1, odds(x+1)/oddsx is e^0.781 = 2.184. This justifies the interpretation given at the end of Example 17.6.\n"
   ]
  },
  {
   "cell_type": "code",
   "execution_count": 19,
   "metadata": {},
   "outputs": [
    {
     "name": "stdout",
     "output_type": "stream",
     "text": [
      "Answer:  2.1836548288635016\n"
     ]
    }
   ],
   "source": [
    "x = 1\n",
    "odds_x = exp(-1.41)*exp(0.781*x)\n",
    "odds_x_1 = exp(-1.41)*exp(0.781*(x+1))\n",
    "\n",
    "print(\"Answer: \", odds_x_1/odds_x)\n",
    "\n",
    "\n",
    "\n"
   ]
  },
  {
   "cell_type": "markdown",
   "metadata": {},
   "source": [
    "17.9 Inference for energy drink commercials. Use software to run a logistic regression analysis for the energy drink commercial data of Exercise 17.1. Summarize the results of the inference."
   ]
  },
  {
   "cell_type": "code",
   "execution_count": 20,
   "metadata": {},
   "outputs": [
    {
     "name": "stdout",
     "output_type": "stream",
     "text": [
      "                            OLS Regression Results                            \n",
      "==============================================================================\n",
      "Dep. Variable:                  Total   R-squared:                       0.992\n",
      "Model:                            OLS   Adj. R-squared:                  0.983\n",
      "Method:                 Least Squares   F-statistic:                     118.2\n",
      "Date:                Tue, 07 Apr 2020   Prob (F-statistic):             0.0584\n",
      "Time:                        22:39:07   Log-Likelihood:                -9.5473\n",
      "No. Observations:                   3   AIC:                             23.09\n",
      "Df Residuals:                       1   BIC:                             21.29\n",
      "Df Model:                           1                                         \n",
      "Covariance Type:            nonrobust                                         \n",
      "==============================================================================\n",
      "                 coef    std err          t      P>|t|      [0.025      0.975]\n",
      "------------------------------------------------------------------------------\n",
      "const          0.8780     17.476      0.050      0.968    -221.181     222.937\n",
      "Male           2.0668      0.190     10.873      0.058      -0.349       4.482\n",
      "==============================================================================\n",
      "Omnibus:                          nan   Durbin-Watson:                   2.405\n",
      "Prob(Omnibus):                    nan   Jarque-Bera (JB):                0.288\n",
      "Skew:                          -0.112   Prob(JB):                        0.866\n",
      "Kurtosis:                       1.500   Cond. No.                         275.\n",
      "==============================================================================\n",
      "\n",
      "Warnings:\n",
      "[1] Standard Errors assume that the covariance matrix of the errors is correctly specified.\n"
     ]
    },
    {
     "name": "stderr",
     "output_type": "stream",
     "text": [
      "C:\\Users\\Aser\\Anaconda3\\lib\\site-packages\\numpy\\core\\fromnumeric.py:2389: FutureWarning: Method .ptp is deprecated and will be removed in a future version. Use numpy.ptp instead.\n",
      "  return ptp(axis=axis, out=out, **kwargs)\n",
      "C:\\Users\\Aser\\Anaconda3\\lib\\site-packages\\statsmodels\\stats\\stattools.py:71: ValueWarning: omni_normtest is not valid with less than 8 observations; 3 samples were given.\n",
      "  \"samples were given.\" % int(n), ValueWarning)\n"
     ]
    }
   ],
   "source": [
    "Data = {    \n",
    "    'Male': [67, 63, 130],\n",
    "    'Female': [65, 75, 140],\n",
    "    'Total': [132, 138, 270]\n",
    "}\n",
    "\n",
    "df = DataFrame(Data, columns=['Male','Female', 'Total'])\n",
    "df.head()\n",
    "\n",
    "x = df[[\"Male\"]]\n",
    "y = df[\"Total\"]\n",
    "x = sm.add_constant(x)\n",
    "lm = sm.OLS(y,x).fit()\n",
    "print(lm.summary())"
   ]
  },
  {
   "cell_type": "markdown",
   "metadata": {},
   "source": [
    "17.11 Find the 95% confidence interval for the slope. Using the information in the output of Figure 17.6, find a 95% confidence interval for b1."
   ]
  },
  {
   "cell_type": "code",
   "execution_count": 21,
   "metadata": {},
   "outputs": [
    {
     "name": "stdout",
     "output_type": "stream",
     "text": [
      "2.3485199999999997 3.8694800000000003\n"
     ]
    }
   ],
   "source": [
    "Z=1.96 # because from table confidence interval is 95%\n",
    "print(3.109 - Z*0.388, 3.109+ Z*0.388)"
   ]
  },
  {
   "cell_type": "markdown",
   "metadata": {},
   "source": [
    "17.13 X^2 or z. The Minitab output in Figure 17.6 does not give the value of X2. The column labeled “Z-Value” provides similar information.\n",
    "(a) Find the value under the heading “Z-Value” for the predictor LCONC. Verify that this value is simply the estimated coefficient divided by its standard\n",
    "error. This is a z statistic that has approximately the standard Normal distribution if the null hypothesis (slope 0) is true.\n",
    "(b) Show that the square of z is X^2. The two-sided P-value for z is the same as P for X^2"
   ]
  },
  {
   "cell_type": "markdown",
   "metadata": {},
   "source": [
    "a) to find Z-value:"
   ]
  },
  {
   "cell_type": "code",
   "execution_count": 22,
   "metadata": {},
   "outputs": [
    {
     "name": "stdout",
     "output_type": "stream",
     "text": [
      "8.012886597938143\n"
     ]
    }
   ],
   "source": [
    "coef = 3.109\n",
    "SEcoef = 0.388\n",
    "print(coef/SEcoef)"
   ]
  },
  {
   "cell_type": "markdown",
   "metadata": {},
   "source": [
    "b) we use chi-square contingency test:"
   ]
  },
  {
   "cell_type": "code",
   "execution_count": 24,
   "metadata": {},
   "outputs": [
    {
     "data": {
      "text/plain": [
       "8.014362108115655"
      ]
     },
     "execution_count": 24,
     "metadata": {},
     "output_type": "execute_result"
    }
   ],
   "source": [
    "Chi_Square = 64.23\n",
    "Z = np.sqrt(Chi_Square)\n",
    "Z"
   ]
  },
  {
   "cell_type": "markdown",
   "metadata": {},
   "source": [
    "17.15 What’s wrong? For each of the following,\n",
    "explain what is wrong and why.\n",
    "\n",
    "(a) If b1 = 2 in a logistic regression analysis, we estimate that the probability of an event is multiplied by 2 when the value of the explanatory variable changes by 1.\n",
    "\n",
    "(b) The intercept b0 is equal to the odds of an event when     x = 0.\n",
    "\n",
    "(c) The odds of an event are 1 minus the probability of the event.\n",
    "\n"
   ]
  },
  {
   "cell_type": "markdown",
   "metadata": {},
   "source": [
    "Answer:\n",
    "\n",
    "a) It is wrong, event is not multiplied by 2. The odds are increased by  e^2 or 7.3891 times, since the proportions go in the form of degrees e and the odds are the ratio of the proportions for the two possible outcomes.\n",
    "\n",
    "b) It is true.The intercept b0 is equal to the log odds of an event when x=0 (formula log(p/(1-p))=b0+b1*x) \n",
    "\n",
    "c) It is wrong.The odds of an event are\n",
    "the probability of the event divided by 1 minus the\n",
    "probability of the event.The odds of an event are the probability of the event divided by 1 minus the probability of the event:  p/(1-p)"
   ]
  },
  {
   "cell_type": "markdown",
   "metadata": {},
   "source": [
    "17.17 Converting odds to probability. Refer to the\n",
    "previous exercise. For each opening-weekend revenue,\n",
    "compute the estimated probability that the movie is\n",
    "profitable."
   ]
  },
  {
   "cell_type": "markdown",
   "metadata": {},
   "source": [
    "Given:\n",
    "\n",
    "a = $20 million dollars\n",
    "\n",
    "b = $35 million dollars\n",
    "\n",
    "c = $50 million dollars\n"
   ]
  },
  {
   "cell_type": "code",
   "execution_count": 28,
   "metadata": {},
   "outputs": [
    {
     "name": "stdout",
     "output_type": "stream",
     "text": [
      "[0.7170077  0.79685081 0.83825346]\n"
     ]
    }
   ],
   "source": [
    "a = np.log(20)\n",
    "b = np.log(35)\n",
    "c = np.log(50)\n",
    "x = np.array([a, b, c])\n",
    "b0 = -1.41\n",
    "b1 = 0.781\n",
    "\n",
    "p = 1 / (1 + np.exp(-b0-b1*x))\n",
    "print(p)"
   ]
  },
  {
   "cell_type": "markdown",
   "metadata": {},
   "source": [
    "17.19 Tipping behavior in Canada. The Consumer Report on Eating Share Trends (CREST) contains data that cover all provinces of Canada and that describe away-from-home food purchases by roughly 4000 households per quarter. Researchers recently restricted their attention to restaurants at which tips would normally be given.4 From a total of 73,822 observations, “high” and “low” tipping variables were created based on whether the observed tip rate was above 20% or below 10%, respectively. They then used logistic regression to identify explanatory variables\n",
    "associated with either “high” or “low” tips. Here is a\n",
    "table summarizing what they termed the stereotyperelated variables for the high-tip analysis: \n",
    "(Explanatory variable-Odds ratio)\n",
    "Senior adult - 0.7420\n",
    "\n",
    "Sunday - 0.9970\n",
    "\n",
    "English as second language - 0.7360\n",
    "\n",
    "French-speaking Canadian - 0.7840\n",
    "\n",
    "Alcoholic drinks - 1.1250\n",
    "\n",
    "Lone male - 1.0220\n",
    "\n",
    "The starred odds ratios were significant at the 0.01\n",
    "level. Write a short summary explaining these results\n",
    "in terms of the odds of leaving a high tip."
   ]
  },
  {
   "cell_type": "markdown",
   "metadata": {},
   "source": [
    "Answer: \n",
    "\n",
    "    Senior adult are 0.742 times as likely to leave tips than younger man;\n",
    "    \n",
    "    People who drink alcohol are 1.12 times as likely to leave tips than the people who don't drink (odds of drinkers = 1.12 * odds od non-drinkers);\n",
    "    \n",
    "    People who speak English as second language 0.736 times as likely to leave tips than other people;\n",
    "    \n",
    "    French-speaking Canadians are 0.784 times as likely to leave tips than who doesn't speak French;"
   ]
  },
  {
   "cell_type": "markdown",
   "metadata": {},
   "source": [
    "17.21 Interpret the results. Refer to the previous exercise. The researchers also reported odds ratios with 95% confidence intervals for this logistic regression\n",
    "model.  \n",
    "(a) Explain the relationship between the confidence\n",
    "intervals reported here and the results of the z\n",
    "significance tests that you found in the previous exercise.\n",
    "(b) Interpret the results in terms of the odds ratios.\n",
    "(c) Write a short summary explaining the results.\n",
    "Include comments regarding the usefulness of the fitted\n",
    "coefficients versus the odds ratios in making a summary."
   ]
  },
  {
   "cell_type": "markdown",
   "metadata": {},
   "source": [
    "a) An odds ratio of 1 indicates that the condition or event under study is equally likely to occur in both groups. Hence, if confidence interval includes 1, we can say that the variable is not significant\n",
    "\n",
    "b) Since only \"Men's magazines\" variable's confidence interval contains 1, we can say that this variable is not significant at 0.05 level and other are significant\n",
    "\n",
    "c) Mature readers are 1.27 to 2.16 times as likely to observe not sexual clothing on model as young readers Male model's clothing is 2.74 to 5.01 times as likely than female model's clothing to be not sexual. When target auditory is women, the model clothing is 1.11 to 2.23 times as likely to be not sexual as in other journals. The odds ratios are often much easier to interpret than the fitted coefficients because we can interpret them as ratio of likeliness."
   ]
  },
  {
   "cell_type": "markdown",
   "metadata": {},
   "source": [
    "17.23 E-government use in Canada. Electronic government (e-government) provides digital means, such as an email address or a website, for citizens to contact public officials. The vision behind e-government is to create a more citizen-focused government. One study used survey data to determine what factors are\n",
    "related to a citizen using an e-government website rather than visiting or calling a government office.7 The dependent variable refers to whether the citizen used the website or not. Explanatory variables include sex (1 = female, 0 = male), daily Internet use (1 = yes, 0 = no), age (six ordered categories\n",
    "numbered 1 through 6), household income (seven ordered categories numbered 1 through 7), size of the community (six ordered categories numbered 1 through 6), and education (1 = at least some postsecondary education, 0 = other). The following table summarizes the results. \n",
    "All but “Education” and “Income” were significant at\n",
    "the 0.05 level.\n",
    "\n",
    "(a) Interpret each of the odds ratios in terms of the\n",
    "probability that the individual uses the website.\n",
    "\n",
    "(b) Compute the regression coefficients for each of the\n",
    "variables in the table.\n",
    "\n",
    "(c) What are the odds that a male college graduate, who\n",
    "uses the Internet daily, is age category 3, household income\n",
    "level 4, and community size 5 is using the Internet?"
   ]
  },
  {
   "cell_type": "markdown",
   "metadata": {},
   "source": [
    "a)\n",
    "By analizing the table of explanatory variable and odds ratio we can say that female are 0.87 times as likely to use the website than male. The people who use the Internet daily 4.16 times as likely to use the site than who don't use\n",
    "Old people are 0.81 times as likely to visit the website as people from younger generation. People from larger community 0.85 times as likely to use the website as peop;e from smaller community. Other odds ratios are not significant"
   ]
  },
  {
   "cell_type": "code",
   "execution_count": 29,
   "metadata": {},
   "outputs": [
    {
     "name": "stdout",
     "output_type": "stream",
     "text": [
      "sex:  -0.13926206733350766\n",
      "daily internet usage:  1.425515074273172\n",
      "age:  -0.21072103131565253\n",
      "income:  0.009950330853168092\n",
      "size:  -0.16251892949777494\n",
      "education:  -0.030459207484708574\n",
      "intercept:  -0.4155154439616658\n"
     ]
    }
   ],
   "source": [
    "# b)\n",
    "sex = np.log(0.87)\n",
    "daily_internet_usage= np.log(4.16)\n",
    "age = np.log(0.81)\n",
    "income = np.log(1.01)\n",
    "size = np.log(0.85)\n",
    "education = np.log(0.97)\n",
    "intercept = np.log(0.66)\n",
    "\n",
    "print (\"sex: \", sex)\n",
    "print (\"daily internet usage: \", daily_internet_usage)\n",
    "print (\"age: \", age)\n",
    "print (\"income: \", income)\n",
    "print (\"size: \", size)\n",
    "print (\"education: \", education)\n",
    "print (\"intercept: \", intercept)\n"
   ]
  },
  {
   "cell_type": "code",
   "execution_count": 30,
   "metadata": {},
   "outputs": [
    {
     "name": "stdout",
     "output_type": "stream",
     "text": [
      "odds = 0.6534978765999487\n"
     ]
    }
   ],
   "source": [
    "# c)\n",
    "\n",
    "odds = np.exp(sex*0 +  daily_internet_usage + age*3 + income*4 + size*5 + education + intercept)\n",
    "print('odds = {}'.format(odds))"
   ]
  },
  {
   "cell_type": "markdown",
   "metadata": {},
   "source": [
    "17.25 Stock options. Different kinds of companies compensate their key employees in different ways. Established companies \n",
    "may pay higher salaries, while new companies may offer stock options that will be valuable if the company succeeds. \n",
    "Do high-tech companies tend to offer stock options more often than other companies? One study looked at a random sample of\n",
    "200 companies. Of these, 91 were listed in the Directory of Public High Technology Corporations, and 109 were not listed. \n",
    "Treat these two groups as SRSs of high-tech and non-high-tech companies.  Seventy-three of the high-tech companies and 75 of\n",
    "the non-high-tech companies offered incentive stock options to key employees.\n",
    "\n",
    "(a) What proportion of the high-tech companies offer stock options to their key employees? What are the odds?\n",
    "\n",
    "(b) What proportion of the non-high-tech companies offer stock options to their key employees? What are the odds?\n",
    "\n",
    "(c) Find the odds ratio using the odds for the high-tech companies in the numerator. Interpret the result in a few sentences"
   ]
  },
  {
   "cell_type": "code",
   "execution_count": 31,
   "metadata": {},
   "outputs": [
    {
     "name": "stdout",
     "output_type": "stream",
     "text": [
      "0.8021978021978022 4.055555555555556\n"
     ]
    }
   ],
   "source": [
    "# a)\n",
    "listed = 91 \n",
    "notListed = 109 \n",
    "highTech = 73 \n",
    "notHighTech = 75 \n",
    "proportion1 = highTech / listed\n",
    "odds1 = proportion1 / (1 - proportion1)\n",
    "print(proportion1, odds1)"
   ]
  },
  {
   "cell_type": "code",
   "execution_count": 33,
   "metadata": {},
   "outputs": [
    {
     "name": "stdout",
     "output_type": "stream",
     "text": [
      "0.6880733944954128 2.205882352941176\n"
     ]
    }
   ],
   "source": [
    "# b)\n",
    "proportion2 = notHighTech / notListed\n",
    "odds2 = proportion2 / (1 - proportion2)\n",
    "print(proportion2, odds2)"
   ]
  },
  {
   "cell_type": "code",
   "execution_count": 34,
   "metadata": {},
   "outputs": [
    {
     "name": "stdout",
     "output_type": "stream",
     "text": [
      "1.838518518518519\n"
     ]
    }
   ],
   "source": [
    "# c)\n",
    "odds_ratio = odds1 / odds2\n",
    "print(odds_ratio)"
   ]
  },
  {
   "cell_type": "markdown",
   "metadata": {},
   "source": [
    "17.27 Do the inference. Refer to the previous exercise.\n",
    "Software gives 0.3347 for the standard error of b1.\n",
    "\n",
    "(a) Find the 95% confidence interval for beta1.\n",
    "\n",
    "(b) Transform your interval in (a) to a 95% confidence\n",
    "interval for the odds ratio.\n",
    "\n",
    "(c) What do you conclude?"
   ]
  },
  {
   "cell_type": "markdown",
   "metadata": {},
   "source": [
    " Formula: log_odds = b0 + b1*0 = log_odds_non-high-tech"
   ]
  },
  {
   "cell_type": "code",
   "execution_count": 50,
   "metadata": {},
   "outputs": [
    {
     "name": "stdout",
     "output_type": "stream",
     "text": [
      "[-0.04705190566792217, 1.2649720943320777]\n"
     ]
    }
   ],
   "source": [
    "# a)\n",
    "log_odds1 = np.log(odds1)\n",
    "log_odds2 = np.log(odds2)\n",
    "b0 = log_odds2 \n",
    "b1 = log_odds1 - b0\n",
    "se = 0.3347\n",
    "z = 1.96 \n",
    "l_b = b1 - se*z\n",
    "u_b = b1 + se*z\n",
    "print('[{}, {}]'.format(l_b, u_b))"
   ]
  },
  {
   "cell_type": "code",
   "execution_count": 51,
   "metadata": {
    "scrolled": true
   },
   "outputs": [
    {
     "name": "stdout",
     "output_type": "stream",
     "text": [
      "[0.9540378763319712, 3.542993865119207\n"
     ]
    }
   ],
   "source": [
    "# b)\n",
    "print('[{}, {}'.format(np.exp(l_b), np.exp(u_b)))"
   ]
  },
  {
   "cell_type": "markdown",
   "metadata": {},
   "source": [
    "Part C : c) My conclusion is that confidence interval of odds ratio includes 1, there is no significant effect in proportions of different types of companies"
   ]
  },
  {
   "cell_type": "markdown",
   "metadata": {},
   "source": [
    "17.29 Poor service. In the food service industry, some argue tipping encourages servers to provide  discriminate service.\n",
    "If the server expects a good tip, he or she may provide better service. In one survey, 193 servers were surveyed and asked \n",
    "if they ever provided poor service because they did not expect a good tip. Ninety-six replied yes\n",
    "\n",
    "(a) What proportion of the servers have provided poor service because of an expected bad tip?\n",
    "\n",
    "(b) What are the odds that a server will have provided bad service given an expected bad tip?\n",
    "\n",
    "(c) What proportion of the servers did not provide bad service?\n",
    "\n",
    "(d) What are the odds that a server will not have provided bad service ?\n",
    "\n",
    "(e) How are your answers to parts (b) and (d) related?"
   ]
  },
  {
   "cell_type": "code",
   "execution_count": 36,
   "metadata": {},
   "outputs": [],
   "source": [
    "# Given:\n",
    "a = 193\n",
    "b = 96\n"
   ]
  },
  {
   "cell_type": "code",
   "execution_count": 35,
   "metadata": {},
   "outputs": [
    {
     "name": "stdout",
     "output_type": "stream",
     "text": [
      "0.8425988740745154\n"
     ]
    }
   ],
   "source": [
    "# a)\n",
    "p = a / b\n",
    "print(p)\n"
   ]
  },
  {
   "cell_type": "code",
   "execution_count": 37,
   "metadata": {},
   "outputs": [
    {
     "name": "stdout",
     "output_type": "stream",
     "text": [
      "odds: 5.3531947063289165\n"
     ]
    }
   ],
   "source": [
    "# b)\n",
    "print('odds:', p / (1 - p))\n"
   ]
  },
  {
   "cell_type": "code",
   "execution_count": 38,
   "metadata": {},
   "outputs": [
    {
     "name": "stdout",
     "output_type": "stream",
     "text": [
      "0.5025906735751295\n"
     ]
    }
   ],
   "source": [
    "# c)\n",
    "p1 = (a - b) / a\n",
    "print(p1)\n"
   ]
  },
  {
   "cell_type": "code",
   "execution_count": 39,
   "metadata": {},
   "outputs": [
    {
     "name": "stdout",
     "output_type": "stream",
     "text": [
      "odds: 1.0104166666666667\n"
     ]
    }
   ],
   "source": [
    "# d)\n",
    "print('odds:', p1 / (1 - p1))"
   ]
  },
  {
   "cell_type": "markdown",
   "metadata": {},
   "source": [
    "e) They are opposite to each other"
   ]
  },
  {
   "cell_type": "markdown",
   "metadata": {},
   "source": [
    "17.31 Analysis of a reduction in force. To meet competition or cope with economic slowdowns, corporations sometimes undertake a “reduction in force” (RIF), in which substantial numbers of employees are terminated. Federal and various state laws require that employees be treated equally regardless of their age. In particular, employees over the age of 40 years are in a “protected” class, and many allegations of discrimination focus on comparing employees over 40 with their younger coworkers. Here are the data for a recent RIF: \n",
    "\n",
    "(a) Write the logistic regression model for this problem using the log odds of a termination as the response variable and an indicator for over and under 40 years of age as the explanatory variable.\n",
    "\n",
    "(b) Explain the assumption concerning binomial distributions in terms of the variables in this exercise. To what extent do you think that these assumptions are reasonable?\n",
    "\n",
    "(c) Software gives the estimated slope b1 5 1.0371 and its standard error SEb1 5 0.2755. Transform the results to the odds scale. Summarize the results and write a short conclusion.\n",
    "\n",
    "(d) If additional explanatory variables were available, for example, a performance evaluation, how would you use this information to study the RIF?"
   ]
  },
  {
   "cell_type": "code",
   "execution_count": 40,
   "metadata": {},
   "outputs": [
    {
     "name": "stdout",
     "output_type": "stream",
     "text": [
      "b1 = 1.037089059632303, b0 = -3.501840907441843\n"
     ]
    }
   ],
   "source": [
    "# a)\n",
    "proportion1 = 17 / 581 \n",
    "log_odds1 = np.log(proportion1 / (1 - proportion1))\n",
    "proportion2 = 71 / 906 \n",
    "log_odds2 = np.log(proportion2 / (1 - proportion2))\n",
    "b0 = log_odds1 \n",
    "b1 = log_odds2 - b0\n",
    "print('b1 = {}, b0 = {}'.format(b1, b0))"
   ]
  },
  {
   "cell_type": "code",
   "execution_count": 41,
   "metadata": {
    "scrolled": true
   },
   "outputs": [
    {
     "name": "stdout",
     "output_type": "stream",
     "text": [
      "[1.643961798813072, 4.84074705794278]\n"
     ]
    }
   ],
   "source": [
    "# c)\n",
    "se = 0.2755\n",
    "z = 1.96\n",
    "print(f'[{np.exp(b1 - z*se)}, {np.exp(b1 + z*se)}]')"
   ]
  },
  {
   "cell_type": "markdown",
   "metadata": {},
   "source": [
    "d)If additional explanatory variables were avaolable, confidence interval doesn't contain 1, we can say that the variable is significant at 0.05 level"
   ]
  },
  {
   "cell_type": "markdown",
   "metadata": {},
   "source": [
    "17.33 Know your customers. To devise effective marketing strategies, it is helpful to know the characteristics of your customers. A study compared demographic characteristics of people who use the Internet for travel arrangements and of people who do not.12 Of 1132 Internet users, 643 had completed college. Among the 852 nonusers, 349 had completed college. Model the log odds of using the Internet to make travel arrangements with an indicator variable for having completed college as the explanatory variable. Summarize your findings."
   ]
  },
  {
   "cell_type": "code",
   "execution_count": 42,
   "metadata": {},
   "outputs": [
    {
     "name": "stdout",
     "output_type": "stream",
     "text": [
      "b1 = 0.6393004826600597, b0 = -0.02822768062486732\n"
     ]
    },
    {
     "data": {
      "text/plain": [
       "1.8951547219341272"
      ]
     },
     "execution_count": 42,
     "metadata": {},
     "output_type": "execute_result"
    }
   ],
   "source": [
    "proportion1 = 643 / (643 + 349) \n",
    "log_odds1 = np.log(proportion1 / (1 - proportion1))\n",
    "proportion2 = (1132 - 643) / (1132 - 643 + 852 - 349) \n",
    "log_odds2 = np.log(proportion2 / (1 - proportion2))\n",
    "b0 = log_odds2 \n",
    "b1 = log_odds1 - b0\n",
    "print('b1 = {}, b0 = {}'.format(b1, b0))\n",
    "np.exp(b1)"
   ]
  },
  {
   "cell_type": "markdown",
   "metadata": {},
   "source": [
    "Conclusion: The result is 1.8952. It means that, those who have completed college are 1.8952 times more likely to use the Internet for travel arrangements than those who have not completed college."
   ]
  },
  {
   "cell_type": "markdown",
   "metadata": {},
   "source": [
    "17.39 Is there a trend? Refer to the previous exercise. The coding of the indicator variables suggests a way to code models when you expect a pattern in the response that is based on some kind of ordering of the explanatory variable. In some settings this is called detecting a dose response.\n",
    "\n",
    "(a) Use the model to give the estimated log odds for each NCAA division.\n",
    "\n",
    "(b) Plot these estimates versus division and summarize the results. Does there appear to be a pattern in the results?\n",
    "\n",
    "(c) How would you model the pattern that you described in part (b)?"
   ]
  },
  {
   "cell_type": "code",
   "execution_count": 43,
   "metadata": {},
   "outputs": [
    {
     "data": {
      "text/plain": [
       "array([-1.57151868, -1.32492541, -1.13087315])"
      ]
     },
     "execution_count": 43,
     "metadata": {},
     "output_type": "execute_result"
    }
   ],
   "source": [
    "# a)\n",
    "division = np.array([.172, .21, .244])\n",
    "result = np.log(division / (1 - division))\n",
    "result\n"
   ]
  },
  {
   "cell_type": "code",
   "execution_count": 44,
   "metadata": {},
   "outputs": [
    {
     "data": {
      "image/png": "[encoded data removed]",
      "text/plain": [
       "<Figure size 432x288 with 1 Axes>"
      ]
     },
     "metadata": {
      "needs_background": "light"
     },
     "output_type": "display_data"
    }
   ],
   "source": [
    "plt.plot(division, result)\n",
    "plt.show()"
   ]
  },
  {
   "cell_type": "markdown",
   "metadata": {},
   "source": [
    "Part B: This graph shows that odds of gambling increases as the division increases."
   ]
  },
  {
   "cell_type": "markdown",
   "metadata": {},
   "source": [
    "Part C:  We ccan use a regression analysis, because the relationship is quite linear,"
   ]
  }
 ],
 "metadata": {
  "kernelspec": {
   "display_name": "Python 3",
   "language": "python",
   "name": "python3"
  },
  "language_info": {
   "codemirror_mode": {
    "name": "ipython",
    "version": 3
   },
   "file_extension": ".py",
   "mimetype": "text/x-python",
   "name": "python",
   "nbconvert_exporter": "python",
   "pygments_lexer": "ipython3",
   "version": "3.7.4"
  }
 },
 "nbformat": 4,
 "nbformat_minor": 2
}
